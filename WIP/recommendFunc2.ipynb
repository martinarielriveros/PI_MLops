{
 "cells": [
  {
   "cell_type": "code",
   "execution_count": 40,
   "metadata": {},
   "outputs": [],
   "source": [
    "# What follows is a step-by-step to get the reult:\n",
    "\n",
    "# A recommendation system to get top 5 recommended games for a given user.\n",
    "# Intermediate results are presented to see transformations taking place.\n",
    "# At te end, the final response is shown.\n",
    "# Whith all this working, we copy relevant results to the main.py file, so they can be consumend through the API.\n",
    "\n",
    "# Although this may be a standalone procedure, when deploying, this recommendation system is going to call the other\n",
    "# recommendation system. As we will si in just a few lines."
   ]
  },
  {
   "cell_type": "code",
   "execution_count": 41,
   "metadata": {},
   "outputs": [],
   "source": [
    "import pandas as pd\n",
    "\n",
    "pd.set_option('display.max_colwidth', 100)\n",
    "pd.set_option('display.max_rows',5)"
   ]
  },
  {
   "cell_type": "code",
   "execution_count": 42,
   "metadata": {},
   "outputs": [],
   "source": [
    "genre_df = pd.read_csv('../light_data/playtimegenre.csv')\n",
    "games_names_df = pd.read_csv('../light_data/item_id&name.csv')\n",
    "games_played_df = pd.read_parquet('../light_data/user_id&playtime.parquet', engine='fastparquet')"
   ]
  },
  {
   "cell_type": "code",
   "execution_count": 43,
   "metadata": {},
   "outputs": [
    {
     "data": {
      "text/html": [
       "<div>\n",
       "<style scoped>\n",
       "    .dataframe tbody tr th:only-of-type {\n",
       "        vertical-align: middle;\n",
       "    }\n",
       "\n",
       "    .dataframe tbody tr th {\n",
       "        vertical-align: top;\n",
       "    }\n",
       "\n",
       "    .dataframe thead th {\n",
       "        text-align: right;\n",
       "    }\n",
       "</style>\n",
       "<table border=\"1\" class=\"dataframe\">\n",
       "  <thead>\n",
       "    <tr style=\"text-align: right;\">\n",
       "      <th></th>\n",
       "      <th>user_id</th>\n",
       "      <th>item_id</th>\n",
       "      <th>playtime_forever</th>\n",
       "    </tr>\n",
       "    <tr>\n",
       "      <th>index</th>\n",
       "      <th></th>\n",
       "      <th></th>\n",
       "      <th></th>\n",
       "    </tr>\n",
       "  </thead>\n",
       "  <tbody>\n",
       "    <tr>\n",
       "      <th>3721412</th>\n",
       "      <td>xinyo</td>\n",
       "      <td>57300</td>\n",
       "      <td>77</td>\n",
       "    </tr>\n",
       "    <tr>\n",
       "      <th>4682070</th>\n",
       "      <td>76561198066440534</td>\n",
       "      <td>239070</td>\n",
       "      <td>3651</td>\n",
       "    </tr>\n",
       "    <tr>\n",
       "      <th>110968</th>\n",
       "      <td>jichaelcoaching</td>\n",
       "      <td>246840</td>\n",
       "      <td>526</td>\n",
       "    </tr>\n",
       "  </tbody>\n",
       "</table>\n",
       "</div>"
      ],
      "text/plain": [
       "                   user_id item_id  playtime_forever\n",
       "index                                               \n",
       "3721412              xinyo   57300                77\n",
       "4682070  76561198066440534  239070              3651\n",
       "110968     jichaelcoaching  246840               526"
      ]
     },
     "execution_count": 43,
     "metadata": {},
     "output_type": "execute_result"
    }
   ],
   "source": [
    "games_played_df.sample(3)"
   ]
  },
  {
   "cell_type": "code",
   "execution_count": 50,
   "metadata": {},
   "outputs": [
    {
     "data": {
      "text/html": [
       "<div>\n",
       "<style scoped>\n",
       "    .dataframe tbody tr th:only-of-type {\n",
       "        vertical-align: middle;\n",
       "    }\n",
       "\n",
       "    .dataframe tbody tr th {\n",
       "        vertical-align: top;\n",
       "    }\n",
       "\n",
       "    .dataframe thead th {\n",
       "        text-align: right;\n",
       "    }\n",
       "</style>\n",
       "<table border=\"1\" class=\"dataframe\">\n",
       "  <thead>\n",
       "    <tr style=\"text-align: right;\">\n",
       "      <th></th>\n",
       "      <th>user_id</th>\n",
       "      <th>item_id</th>\n",
       "      <th>playtime_forever</th>\n",
       "    </tr>\n",
       "    <tr>\n",
       "      <th>index</th>\n",
       "      <th></th>\n",
       "      <th></th>\n",
       "      <th></th>\n",
       "    </tr>\n",
       "  </thead>\n",
       "  <tbody>\n",
       "    <tr>\n",
       "      <th>587715</th>\n",
       "      <td>wolop</td>\n",
       "      <td>4000</td>\n",
       "      <td>642773</td>\n",
       "    </tr>\n",
       "    <tr>\n",
       "      <th>2499068</th>\n",
       "      <td>Evilutional</td>\n",
       "      <td>212200</td>\n",
       "      <td>635295</td>\n",
       "    </tr>\n",
       "    <tr>\n",
       "      <th>...</th>\n",
       "      <td>...</td>\n",
       "      <td>...</td>\n",
       "      <td>...</td>\n",
       "    </tr>\n",
       "    <tr>\n",
       "      <th>5036595</th>\n",
       "      <td>zadow</td>\n",
       "      <td>291480</td>\n",
       "      <td>1</td>\n",
       "    </tr>\n",
       "    <tr>\n",
       "      <th>4775385</th>\n",
       "      <td>76561198071713972</td>\n",
       "      <td>231060</td>\n",
       "      <td>1</td>\n",
       "    </tr>\n",
       "  </tbody>\n",
       "</table>\n",
       "<p>68403 rows × 3 columns</p>\n",
       "</div>"
      ],
      "text/plain": [
       "                   user_id item_id  playtime_forever\n",
       "index                                               \n",
       "587715               wolop    4000            642773\n",
       "2499068        Evilutional  212200            635295\n",
       "...                    ...     ...               ...\n",
       "5036595              zadow  291480                 1\n",
       "4775385  76561198071713972  231060                 1\n",
       "\n",
       "[68403 rows x 3 columns]"
      ]
     },
     "execution_count": 50,
     "metadata": {},
     "output_type": "execute_result"
    }
   ],
   "source": [
    "# Sort values within each 'user_id' group by 'playtime_forever'\n",
    "# This dataframe contains the most played game by a given user, i assume this is what likes him the most.\n",
    "\n",
    "most_played_game_by_user = games_played_df.sort_values(by='playtime_forever', ascending=False).groupby('user_id').head(1)\n",
    "most_played_game_by_user.to_csv('../light_data/recommendfunc2.csv')\n",
    "most_played_game_by_user"
   ]
  },
  {
   "cell_type": "code",
   "execution_count": 45,
   "metadata": {},
   "outputs": [
    {
     "data": {
      "text/html": [
       "<div>\n",
       "<style scoped>\n",
       "    .dataframe tbody tr th:only-of-type {\n",
       "        vertical-align: middle;\n",
       "    }\n",
       "\n",
       "    .dataframe tbody tr th {\n",
       "        vertical-align: top;\n",
       "    }\n",
       "\n",
       "    .dataframe thead th {\n",
       "        text-align: right;\n",
       "    }\n",
       "</style>\n",
       "<table border=\"1\" class=\"dataframe\">\n",
       "  <thead>\n",
       "    <tr style=\"text-align: right;\">\n",
       "      <th></th>\n",
       "      <th>user_id</th>\n",
       "      <th>item_id</th>\n",
       "      <th>playtime_forever</th>\n",
       "    </tr>\n",
       "    <tr>\n",
       "      <th>index</th>\n",
       "      <th></th>\n",
       "      <th></th>\n",
       "      <th></th>\n",
       "    </tr>\n",
       "  </thead>\n",
       "  <tbody>\n",
       "    <tr>\n",
       "      <th>2499068</th>\n",
       "      <td>Evilutional</td>\n",
       "      <td>212200</td>\n",
       "      <td>635295</td>\n",
       "    </tr>\n",
       "    <tr>\n",
       "      <th>2499070</th>\n",
       "      <td>Evilutional</td>\n",
       "      <td>230410</td>\n",
       "      <td>68110</td>\n",
       "    </tr>\n",
       "    <tr>\n",
       "      <th>...</th>\n",
       "      <td>...</td>\n",
       "      <td>...</td>\n",
       "      <td>...</td>\n",
       "    </tr>\n",
       "    <tr>\n",
       "      <th>2499064</th>\n",
       "      <td>Evilutional</td>\n",
       "      <td>221640</td>\n",
       "      <td>4</td>\n",
       "    </tr>\n",
       "    <tr>\n",
       "      <th>2499101</th>\n",
       "      <td>Evilutional</td>\n",
       "      <td>304930</td>\n",
       "      <td>2</td>\n",
       "    </tr>\n",
       "  </tbody>\n",
       "</table>\n",
       "<p>60 rows × 3 columns</p>\n",
       "</div>"
      ],
      "text/plain": [
       "             user_id item_id  playtime_forever\n",
       "index                                         \n",
       "2499068  Evilutional  212200            635295\n",
       "2499070  Evilutional  230410             68110\n",
       "...              ...     ...               ...\n",
       "2499064  Evilutional  221640                 4\n",
       "2499101  Evilutional  304930                 2\n",
       "\n",
       "[60 rows x 3 columns]"
      ]
     },
     "execution_count": 45,
     "metadata": {},
     "output_type": "execute_result"
    }
   ],
   "source": [
    "# This is the check for the correctness of the preceding sorting-grouping\n",
    "\n",
    "games_played_df[games_played_df['user_id']=='Evilutional'].sort_values(by='playtime_forever', ascending=False)"
   ]
  },
  {
   "cell_type": "code",
   "execution_count": 46,
   "metadata": {},
   "outputs": [
    {
     "data": {
      "text/html": [
       "<div>\n",
       "<style scoped>\n",
       "    .dataframe tbody tr th:only-of-type {\n",
       "        vertical-align: middle;\n",
       "    }\n",
       "\n",
       "    .dataframe tbody tr th {\n",
       "        vertical-align: top;\n",
       "    }\n",
       "\n",
       "    .dataframe thead th {\n",
       "        text-align: right;\n",
       "    }\n",
       "</style>\n",
       "<table border=\"1\" class=\"dataframe\">\n",
       "  <thead>\n",
       "    <tr style=\"text-align: right;\">\n",
       "      <th></th>\n",
       "      <th>user_id</th>\n",
       "      <th>item_id</th>\n",
       "      <th>playtime_forever</th>\n",
       "    </tr>\n",
       "    <tr>\n",
       "      <th>index</th>\n",
       "      <th></th>\n",
       "      <th></th>\n",
       "      <th></th>\n",
       "    </tr>\n",
       "  </thead>\n",
       "  <tbody>\n",
       "    <tr>\n",
       "      <th>2499068</th>\n",
       "      <td>Evilutional</td>\n",
       "      <td>212200</td>\n",
       "      <td>635295</td>\n",
       "    </tr>\n",
       "  </tbody>\n",
       "</table>\n",
       "</div>"
      ],
      "text/plain": [
       "             user_id item_id  playtime_forever\n",
       "index                                         \n",
       "2499068  Evilutional  212200            635295"
      ]
     },
     "execution_count": 46,
     "metadata": {},
     "output_type": "execute_result"
    }
   ],
   "source": [
    "most_played_game_by_user[most_played_game_by_user['user_id']=='Evilutional']"
   ]
  },
  {
   "cell_type": "code",
   "execution_count": 58,
   "metadata": {},
   "outputs": [
    {
     "data": {
      "text/html": [
       "<div>\n",
       "<style scoped>\n",
       "    .dataframe tbody tr th:only-of-type {\n",
       "        vertical-align: middle;\n",
       "    }\n",
       "\n",
       "    .dataframe tbody tr th {\n",
       "        vertical-align: top;\n",
       "    }\n",
       "\n",
       "    .dataframe thead th {\n",
       "        text-align: right;\n",
       "    }\n",
       "</style>\n",
       "<table border=\"1\" class=\"dataframe\">\n",
       "  <thead>\n",
       "    <tr style=\"text-align: right;\">\n",
       "      <th></th>\n",
       "      <th>user_id</th>\n",
       "      <th>item_id</th>\n",
       "      <th>playtime_forever</th>\n",
       "    </tr>\n",
       "    <tr>\n",
       "      <th>index</th>\n",
       "      <th></th>\n",
       "      <th></th>\n",
       "      <th></th>\n",
       "    </tr>\n",
       "  </thead>\n",
       "  <tbody>\n",
       "    <tr>\n",
       "      <th>3805612</th>\n",
       "      <td>76561198068270286</td>\n",
       "      <td>209870</td>\n",
       "      <td>34961</td>\n",
       "    </tr>\n",
       "  </tbody>\n",
       "</table>\n",
       "</div>"
      ],
      "text/plain": [
       "                   user_id item_id  playtime_forever\n",
       "index                                               \n",
       "3805612  76561198068270286  209870             34961"
      ]
     },
     "execution_count": 58,
     "metadata": {},
     "output_type": "execute_result"
    }
   ],
   "source": [
    "most_played_game_by_user[most_played_game_by_user['user_id']=='76561198068270286']"
   ]
  },
  {
   "cell_type": "code",
   "execution_count": 63,
   "metadata": {},
   "outputs": [
    {
     "name": "stdout",
     "output_type": "stream",
     "text": [
      "este es el item que vuelve del df 209870\n",
      "[216445, 266490, 316700, 298950, 216430, 492890]\n"
     ]
    }
   ],
   "source": [
    "from sklearn.metrics.pairwise import cosine_similarity\n",
    "import numpy as np\n",
    "import pandas as pd\n",
    "\n",
    "def user_recommendation(user_id:str):\n",
    "\n",
    "    data = pd.read_parquet(\"../light_data/recommendfunc1.parquet\", engine=\"fastparquet\")\n",
    "    user_data = pd.read_csv(\"../light_data/recommendfunc2.csv\")\n",
    "    \n",
    "    item_id = user_data.loc[user_data['user_id'] == user_id, 'item_id'].values[0]\n",
    "       \n",
    "    data['item_id'] = data['item_id'].astype(int)\n",
    "\n",
    "    if data['item_id'].isin([item_id]).any():\n",
    "        # Calculates the cosine similarity between the selected game (item_id) and\n",
    "        # all other games in the genre_features DataFrame. The result is stored in the 'similarity' variable.\n",
    "        selected_item = data[data['item_id'] == item_id][data.columns[2:]]\n",
    "        features_columns = data[data.columns[2:]]\n",
    "        similarity = cosine_similarity(selected_item[data.columns[2:]], features_columns)\n",
    "\n",
    "        # Get the indices of the top 6 similar items (we include the first one as well)\n",
    "        similar_items_indices = np.argsort(similarity[0])[::-1][0:6]\n",
    "        \n",
    "        # Extract item_ids of the top 6 similar items\n",
    "        top_n_similar_items = data.loc[similar_items_indices, 'item_id'].tolist()\n",
    "        \n",
    "        return top_n_similar_items\n",
    "    \n",
    "    return {f'No item_id like {item_id}'}\n",
    "\n",
    "# Example usage to get the top 6 similar items for item_id 208800\n",
    "top_6_similar_items = user_recommendation('76561198068270286')\n",
    "print(top_6_similar_items)"
   ]
  },
  {
   "cell_type": "code",
   "execution_count": 64,
   "metadata": {},
   "outputs": [
    {
     "data": {
      "text/plain": [
       "0           Gotham City Impostors Free to Play: Pirate Costume\n",
       "1                       Lili: Child of Geos - Complete Edition\n",
       "                               ...                            \n",
       "4    Gotham City Impostors Free to Play: Weapon Pack - Starter\n",
       "5              Crusaders of the Lost Idols - Epic Starter Pack\n",
       "Name: app_name&title, Length: 6, dtype: object"
      ]
     },
     "execution_count": 64,
     "metadata": {},
     "output_type": "execute_result"
    }
   ],
   "source": [
    "# Create a Categorical data type with the desired order. This data type is used to represent categorical data with a specified order.\n",
    "\n",
    "order = pd.CategoricalDtype(top_6_similar_items, ordered=True)\n",
    "\n",
    "# converting the 'item_id' column in the DataFrame (games_names_df) to the Categorical data type created.\n",
    "# This step is crucial for ensuring that subsequent operations take into account the desired order of the categories.\n",
    "\n",
    "games_names_df['item_id'] = games_names_df['item_id'].astype(order)\n",
    "\n",
    "# Filter the DataFrame based on the 'item_id' values in top_6_similar_items\n",
    "\n",
    "response = games_names_df[games_names_df['item_id'].isin(top_6_similar_items)]\n",
    "\n",
    "# Sort sub_df based on the order of 'item_id'\n",
    "\n",
    "response = response.sort_values(by='item_id')\n",
    "\n",
    "# Reset the index if needed\n",
    "\n",
    "response = response.reset_index(drop=True)\n",
    "response['app_name&title']"
   ]
  }
 ],
 "metadata": {
  "kernelspec": {
   "display_name": "Python 3",
   "language": "python",
   "name": "python3"
  },
  "language_info": {
   "codemirror_mode": {
    "name": "ipython",
    "version": 3
   },
   "file_extension": ".py",
   "mimetype": "text/x-python",
   "name": "python",
   "nbconvert_exporter": "python",
   "pygments_lexer": "ipython3",
   "version": "3.11.3"
  }
 },
 "nbformat": 4,
 "nbformat_minor": 2
}
