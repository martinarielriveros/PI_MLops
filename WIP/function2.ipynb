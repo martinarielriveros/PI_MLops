{
 "cells": [
  {
   "cell_type": "code",
   "execution_count": 2,
   "metadata": {},
   "outputs": [],
   "source": [
    "import pandas as pd\n",
    "\n",
    "pd.set_option('display.max_colwidth', 150)\n",
    "pd.set_option('display.max_rows',5)\n",
    "\n",
    "playtime_df = pd.read_csv('../light_data/function2.csv')\n",
    "genre_df = pd.read_csv('../light_data/playtimegenre.csv')"
   ]
  },
  {
   "cell_type": "code",
   "execution_count": 3,
   "metadata": {},
   "outputs": [
    {
     "data": {
      "text/html": [
       "<div>\n",
       "<style scoped>\n",
       "    .dataframe tbody tr th:only-of-type {\n",
       "        vertical-align: middle;\n",
       "    }\n",
       "\n",
       "    .dataframe tbody tr th {\n",
       "        vertical-align: top;\n",
       "    }\n",
       "\n",
       "    .dataframe thead th {\n",
       "        text-align: right;\n",
       "    }\n",
       "</style>\n",
       "<table border=\"1\" class=\"dataframe\">\n",
       "  <thead>\n",
       "    <tr style=\"text-align: right;\">\n",
       "      <th></th>\n",
       "      <th>Unnamed: 0</th>\n",
       "      <th>user_id</th>\n",
       "      <th>item_id</th>\n",
       "      <th>playtime_forever</th>\n",
       "    </tr>\n",
       "  </thead>\n",
       "  <tbody>\n",
       "    <tr>\n",
       "      <th>1730194</th>\n",
       "      <td>1730194</td>\n",
       "      <td>jablets</td>\n",
       "      <td>38400</td>\n",
       "      <td>27</td>\n",
       "    </tr>\n",
       "  </tbody>\n",
       "</table>\n",
       "</div>"
      ],
      "text/plain": [
       "         Unnamed: 0  user_id  item_id  playtime_forever\n",
       "1730194     1730194  jablets    38400                27"
      ]
     },
     "execution_count": 3,
     "metadata": {},
     "output_type": "execute_result"
    }
   ],
   "source": [
    "playtime_df.sample(1)"
   ]
  },
  {
   "cell_type": "code",
   "execution_count": 4,
   "metadata": {},
   "outputs": [
    {
     "data": {
      "text/html": [
       "<div>\n",
       "<style scoped>\n",
       "    .dataframe tbody tr th:only-of-type {\n",
       "        vertical-align: middle;\n",
       "    }\n",
       "\n",
       "    .dataframe tbody tr th {\n",
       "        vertical-align: top;\n",
       "    }\n",
       "\n",
       "    .dataframe thead th {\n",
       "        text-align: right;\n",
       "    }\n",
       "</style>\n",
       "<table border=\"1\" class=\"dataframe\">\n",
       "  <thead>\n",
       "    <tr style=\"text-align: right;\">\n",
       "      <th></th>\n",
       "      <th>item_id</th>\n",
       "      <th>release_date_imputed</th>\n",
       "      <th>tags&amp;genres</th>\n",
       "    </tr>\n",
       "  </thead>\n",
       "  <tbody>\n",
       "    <tr>\n",
       "      <th>9131</th>\n",
       "      <td>607560</td>\n",
       "      <td>2018-01-03</td>\n",
       "      <td>['Utilities', 'Audio Production']</td>\n",
       "    </tr>\n",
       "  </tbody>\n",
       "</table>\n",
       "</div>"
      ],
      "text/plain": [
       "      item_id release_date_imputed                        tags&genres\n",
       "9131   607560           2018-01-03  ['Utilities', 'Audio Production']"
      ]
     },
     "execution_count": 4,
     "metadata": {},
     "output_type": "execute_result"
    }
   ],
   "source": [
    "genre_df.sample(1)"
   ]
  },
  {
   "cell_type": "code",
   "execution_count": 5,
   "metadata": {},
   "outputs": [],
   "source": [
    "merged_df = playtime_df.merge(genre_df, on='item_id')"
   ]
  },
  {
   "cell_type": "code",
   "execution_count": 6,
   "metadata": {},
   "outputs": [
    {
     "data": {
      "text/html": [
       "<div>\n",
       "<style scoped>\n",
       "    .dataframe tbody tr th:only-of-type {\n",
       "        vertical-align: middle;\n",
       "    }\n",
       "\n",
       "    .dataframe tbody tr th {\n",
       "        vertical-align: top;\n",
       "    }\n",
       "\n",
       "    .dataframe thead th {\n",
       "        text-align: right;\n",
       "    }\n",
       "</style>\n",
       "<table border=\"1\" class=\"dataframe\">\n",
       "  <thead>\n",
       "    <tr style=\"text-align: right;\">\n",
       "      <th></th>\n",
       "      <th>Unnamed: 0</th>\n",
       "      <th>user_id</th>\n",
       "      <th>item_id</th>\n",
       "      <th>playtime_forever</th>\n",
       "      <th>release_date_imputed</th>\n",
       "      <th>tags&amp;genres</th>\n",
       "    </tr>\n",
       "  </thead>\n",
       "  <tbody>\n",
       "    <tr>\n",
       "      <th>284076</th>\n",
       "      <td>284076</td>\n",
       "      <td>76561198066582571</td>\n",
       "      <td>22380</td>\n",
       "      <td>864</td>\n",
       "      <td>2010-10-19</td>\n",
       "      <td>['Open World', 'RPG', 'Post-apocalyptic', 'Singleplayer', 'Moddable', 'First-Person', 'Action', 'Exploration', 'Adventure', 'Sci-fi', 'Story Rich'...</td>\n",
       "    </tr>\n",
       "  </tbody>\n",
       "</table>\n",
       "</div>"
      ],
      "text/plain": [
       "        Unnamed: 0            user_id  item_id  playtime_forever  \\\n",
       "284076      284076  76561198066582571    22380               864   \n",
       "\n",
       "       release_date_imputed  \\\n",
       "284076           2010-10-19   \n",
       "\n",
       "                                                                                                                                                  tags&genres  \n",
       "284076  ['Open World', 'RPG', 'Post-apocalyptic', 'Singleplayer', 'Moddable', 'First-Person', 'Action', 'Exploration', 'Adventure', 'Sci-fi', 'Story Rich'...  "
      ]
     },
     "execution_count": 6,
     "metadata": {},
     "output_type": "execute_result"
    }
   ],
   "source": [
    "merged_df.sample(1)"
   ]
  },
  {
   "cell_type": "code",
   "execution_count": null,
   "metadata": {},
   "outputs": [],
   "source": [
    "merged_df.to_parquet('../light_data/testFunction2toerase.parquet', engine=\"pyarrow\")"
   ]
  },
  {
   "cell_type": "code",
   "execution_count": null,
   "metadata": {},
   "outputs": [
    {
     "data": {
      "text/html": [
       "<div>\n",
       "<style scoped>\n",
       "    .dataframe tbody tr th:only-of-type {\n",
       "        vertical-align: middle;\n",
       "    }\n",
       "\n",
       "    .dataframe tbody tr th {\n",
       "        vertical-align: top;\n",
       "    }\n",
       "\n",
       "    .dataframe thead th {\n",
       "        text-align: right;\n",
       "    }\n",
       "</style>\n",
       "<table border=\"1\" class=\"dataframe\">\n",
       "  <thead>\n",
       "    <tr style=\"text-align: right;\">\n",
       "      <th></th>\n",
       "      <th>item_id</th>\n",
       "      <th>release_date_imputed</th>\n",
       "      <th>tags&amp;genres</th>\n",
       "    </tr>\n",
       "  </thead>\n",
       "  <tbody>\n",
       "    <tr>\n",
       "      <th>278</th>\n",
       "      <td>31990</td>\n",
       "      <td>2009-07-21</td>\n",
       "      <td>NaN</td>\n",
       "    </tr>\n",
       "    <tr>\n",
       "      <th>297</th>\n",
       "      <td>35050</td>\n",
       "      <td>2009-08-19</td>\n",
       "      <td>NaN</td>\n",
       "    </tr>\n",
       "    <tr>\n",
       "      <th>...</th>\n",
       "      <td>...</td>\n",
       "      <td>...</td>\n",
       "      <td>...</td>\n",
       "    </tr>\n",
       "    <tr>\n",
       "      <th>31648</th>\n",
       "      <td>34910</td>\n",
       "      <td>2009-07-20</td>\n",
       "      <td>NaN</td>\n",
       "    </tr>\n",
       "    <tr>\n",
       "      <th>31804</th>\n",
       "      <td>11920</td>\n",
       "      <td>2008-04-18</td>\n",
       "      <td>NaN</td>\n",
       "    </tr>\n",
       "  </tbody>\n",
       "</table>\n",
       "<p>162 rows × 3 columns</p>\n",
       "</div>"
      ],
      "text/plain": [
       "       item_id release_date_imputed tags&genres\n",
       "278      31990           2009-07-21         NaN\n",
       "297      35050           2009-08-19         NaN\n",
       "...        ...                  ...         ...\n",
       "31648    34910           2009-07-20         NaN\n",
       "31804    11920           2008-04-18         NaN\n",
       "\n",
       "[162 rows x 3 columns]"
      ]
     },
     "execution_count": 9,
     "metadata": {},
     "output_type": "execute_result"
    }
   ],
   "source": [
    "# As there are some NaN values in \"tags&genres\" we will need to test this in function condition\n",
    "genre_df[genre_df['tags&genres'].isna()]"
   ]
  },
  {
   "cell_type": "code",
   "execution_count": null,
   "metadata": {},
   "outputs": [],
   "source": [
    "result = pd.read_parquet(\"../light_data/testFunction2toerase.parquet\", engine=\"pyarrow\")\n",
    "result"
   ]
  },
  {
   "cell_type": "code",
   "execution_count": 9,
   "metadata": {},
   "outputs": [],
   "source": [
    "genre = \"Action\"\n",
    "data = pd.read_parquet(\"light_data/function2.parquet\", engine=\"pyarrow\")"
   ]
  },
  {
   "cell_type": "code",
   "execution_count": 10,
   "metadata": {},
   "outputs": [
    {
     "data": {
      "text/html": [
       "<div>\n",
       "<style scoped>\n",
       "    .dataframe tbody tr th:only-of-type {\n",
       "        vertical-align: middle;\n",
       "    }\n",
       "\n",
       "    .dataframe tbody tr th {\n",
       "        vertical-align: top;\n",
       "    }\n",
       "\n",
       "    .dataframe thead th {\n",
       "        text-align: right;\n",
       "    }\n",
       "</style>\n",
       "<table border=\"1\" class=\"dataframe\">\n",
       "  <thead>\n",
       "    <tr style=\"text-align: right;\">\n",
       "      <th></th>\n",
       "      <th>user_id</th>\n",
       "      <th>item_id</th>\n",
       "      <th>playtime_forever</th>\n",
       "      <th>tags&amp;genres</th>\n",
       "      <th>year</th>\n",
       "    </tr>\n",
       "  </thead>\n",
       "  <tbody>\n",
       "    <tr>\n",
       "      <th>0</th>\n",
       "      <td>76561197970982479</td>\n",
       "      <td>10</td>\n",
       "      <td>6</td>\n",
       "      <td>['Action', 'FPS', 'Multiplayer', 'Shooter', 'Classic', 'Team-Based', 'Competitive', 'First-Person', 'Tactical', \"1990's\", 'e-sports', 'PvP', 'Mili...</td>\n",
       "      <td>2000</td>\n",
       "    </tr>\n",
       "    <tr>\n",
       "      <th>3</th>\n",
       "      <td>doctr</td>\n",
       "      <td>10</td>\n",
       "      <td>93</td>\n",
       "      <td>['Action', 'FPS', 'Multiplayer', 'Shooter', 'Classic', 'Team-Based', 'Competitive', 'First-Person', 'Tactical', \"1990's\", 'e-sports', 'PvP', 'Mili...</td>\n",
       "      <td>2000</td>\n",
       "    </tr>\n",
       "    <tr>\n",
       "      <th>...</th>\n",
       "      <td>...</td>\n",
       "      <td>...</td>\n",
       "      <td>...</td>\n",
       "      <td>...</td>\n",
       "      <td>...</td>\n",
       "    </tr>\n",
       "    <tr>\n",
       "      <th>4294254</th>\n",
       "      <td>76561198107283457</td>\n",
       "      <td>354280</td>\n",
       "      <td>164</td>\n",
       "      <td>['Indie', 'Casual', 'Action', 'Simulation']</td>\n",
       "      <td>2016</td>\n",
       "    </tr>\n",
       "    <tr>\n",
       "      <th>4294256</th>\n",
       "      <td>danebuchanan</td>\n",
       "      <td>485270</td>\n",
       "      <td>7</td>\n",
       "      <td>['Casual', 'Simulation', 'Psychological Horror', 'Horror', 'VR']</td>\n",
       "      <td>2018</td>\n",
       "    </tr>\n",
       "  </tbody>\n",
       "</table>\n",
       "<p>2868034 rows × 5 columns</p>\n",
       "</div>"
      ],
      "text/plain": [
       "                   user_id  item_id  playtime_forever  \\\n",
       "0        76561197970982479       10                 6   \n",
       "3                    doctr       10                93   \n",
       "...                    ...      ...               ...   \n",
       "4294254  76561198107283457   354280               164   \n",
       "4294256       danebuchanan   485270                 7   \n",
       "\n",
       "                                                                                                                                                   tags&genres  \\\n",
       "0        ['Action', 'FPS', 'Multiplayer', 'Shooter', 'Classic', 'Team-Based', 'Competitive', 'First-Person', 'Tactical', \"1990's\", 'e-sports', 'PvP', 'Mili...   \n",
       "3        ['Action', 'FPS', 'Multiplayer', 'Shooter', 'Classic', 'Team-Based', 'Competitive', 'First-Person', 'Tactical', \"1990's\", 'e-sports', 'PvP', 'Mili...   \n",
       "...                                                                                                                                                        ...   \n",
       "4294254                                                                                                            ['Indie', 'Casual', 'Action', 'Simulation']   \n",
       "4294256                                                                                       ['Casual', 'Simulation', 'Psychological Horror', 'Horror', 'VR']   \n",
       "\n",
       "         year  \n",
       "0        2000  \n",
       "3        2000  \n",
       "...       ...  \n",
       "4294254  2016  \n",
       "4294256  2018  \n",
       "\n",
       "[2868034 rows x 5 columns]"
      ]
     },
     "execution_count": 10,
     "metadata": {},
     "output_type": "execute_result"
    }
   ],
   "source": [
    "data"
   ]
  },
  {
   "cell_type": "code",
   "execution_count": null,
   "metadata": {},
   "outputs": [],
   "source": [
    "data['release_date_imputed'] = pd.to_datetime(data['release_date_imputed'], format='%Y-%m-%d', errors='coerce')"
   ]
  },
  {
   "cell_type": "code",
   "execution_count": null,
   "metadata": {},
   "outputs": [],
   "source": [
    "data['year'] = data['release_date_imputed'].dt.year #done"
   ]
  },
  {
   "cell_type": "code",
   "execution_count": null,
   "metadata": {},
   "outputs": [],
   "source": [
    "data.drop('release_date_imputed', axis=1, inplace=True) #done"
   ]
  },
  {
   "cell_type": "code",
   "execution_count": null,
   "metadata": {},
   "outputs": [],
   "source": [
    "data = data.drop(data[data['playtime_forever']==0].index) # done"
   ]
  },
  {
   "cell_type": "code",
   "execution_count": null,
   "metadata": {},
   "outputs": [],
   "source": [
    "data = data.drop(data[data['tags&genres'].isna()].index) # done"
   ]
  },
  {
   "cell_type": "code",
   "execution_count": null,
   "metadata": {},
   "outputs": [
    {
     "data": {
      "text/html": [
       "<div>\n",
       "<style scoped>\n",
       "    .dataframe tbody tr th:only-of-type {\n",
       "        vertical-align: middle;\n",
       "    }\n",
       "\n",
       "    .dataframe tbody tr th {\n",
       "        vertical-align: top;\n",
       "    }\n",
       "\n",
       "    .dataframe thead th {\n",
       "        text-align: right;\n",
       "    }\n",
       "</style>\n",
       "<table border=\"1\" class=\"dataframe\">\n",
       "  <thead>\n",
       "    <tr style=\"text-align: right;\">\n",
       "      <th></th>\n",
       "      <th>user_id</th>\n",
       "      <th>item_id</th>\n",
       "      <th>playtime_forever</th>\n",
       "      <th>tags&amp;genres</th>\n",
       "      <th>year</th>\n",
       "    </tr>\n",
       "  </thead>\n",
       "  <tbody>\n",
       "    <tr>\n",
       "      <th>0</th>\n",
       "      <td>76561197970982479</td>\n",
       "      <td>10</td>\n",
       "      <td>6</td>\n",
       "      <td>['Action', 'FPS', 'Multiplayer', 'Shooter', 'Classic', 'Team-Based', 'Competitive', 'First-Person', 'Tactical', \"1990's\", 'e-sports', 'PvP', 'Mili...</td>\n",
       "      <td>2000</td>\n",
       "    </tr>\n",
       "    <tr>\n",
       "      <th>3</th>\n",
       "      <td>doctr</td>\n",
       "      <td>10</td>\n",
       "      <td>93</td>\n",
       "      <td>['Action', 'FPS', 'Multiplayer', 'Shooter', 'Classic', 'Team-Based', 'Competitive', 'First-Person', 'Tactical', \"1990's\", 'e-sports', 'PvP', 'Mili...</td>\n",
       "      <td>2000</td>\n",
       "    </tr>\n",
       "    <tr>\n",
       "      <th>...</th>\n",
       "      <td>...</td>\n",
       "      <td>...</td>\n",
       "      <td>...</td>\n",
       "      <td>...</td>\n",
       "      <td>...</td>\n",
       "    </tr>\n",
       "    <tr>\n",
       "      <th>4294254</th>\n",
       "      <td>76561198107283457</td>\n",
       "      <td>354280</td>\n",
       "      <td>164</td>\n",
       "      <td>['Indie', 'Casual', 'Action', 'Simulation']</td>\n",
       "      <td>2016</td>\n",
       "    </tr>\n",
       "    <tr>\n",
       "      <th>4294256</th>\n",
       "      <td>danebuchanan</td>\n",
       "      <td>485270</td>\n",
       "      <td>7</td>\n",
       "      <td>['Casual', 'Simulation', 'Psychological Horror', 'Horror', 'VR']</td>\n",
       "      <td>2018</td>\n",
       "    </tr>\n",
       "  </tbody>\n",
       "</table>\n",
       "<p>2868034 rows × 5 columns</p>\n",
       "</div>"
      ],
      "text/plain": [
       "                   user_id  item_id  playtime_forever  \\\n",
       "0        76561197970982479       10                 6   \n",
       "3                    doctr       10                93   \n",
       "...                    ...      ...               ...   \n",
       "4294254  76561198107283457   354280               164   \n",
       "4294256       danebuchanan   485270                 7   \n",
       "\n",
       "                                                                                                                                                   tags&genres  \\\n",
       "0        ['Action', 'FPS', 'Multiplayer', 'Shooter', 'Classic', 'Team-Based', 'Competitive', 'First-Person', 'Tactical', \"1990's\", 'e-sports', 'PvP', 'Mili...   \n",
       "3        ['Action', 'FPS', 'Multiplayer', 'Shooter', 'Classic', 'Team-Based', 'Competitive', 'First-Person', 'Tactical', \"1990's\", 'e-sports', 'PvP', 'Mili...   \n",
       "...                                                                                                                                                        ...   \n",
       "4294254                                                                                                            ['Indie', 'Casual', 'Action', 'Simulation']   \n",
       "4294256                                                                                       ['Casual', 'Simulation', 'Psychological Horror', 'Horror', 'VR']   \n",
       "\n",
       "         year  \n",
       "0        2000  \n",
       "3        2000  \n",
       "...       ...  \n",
       "4294254  2016  \n",
       "4294256  2018  \n",
       "\n",
       "[2868034 rows x 5 columns]"
      ]
     },
     "execution_count": 14,
     "metadata": {},
     "output_type": "execute_result"
    }
   ],
   "source": [
    "data"
   ]
  },
  {
   "cell_type": "code",
   "execution_count": 11,
   "metadata": {},
   "outputs": [],
   "source": [
    "data_steam_copy = data.copy()"
   ]
  },
  {
   "cell_type": "code",
   "execution_count": 27,
   "metadata": {},
   "outputs": [
    {
     "data": {
      "text/html": [
       "<div>\n",
       "<style scoped>\n",
       "    .dataframe tbody tr th:only-of-type {\n",
       "        vertical-align: middle;\n",
       "    }\n",
       "\n",
       "    .dataframe tbody tr th {\n",
       "        vertical-align: top;\n",
       "    }\n",
       "\n",
       "    .dataframe thead th {\n",
       "        text-align: right;\n",
       "    }\n",
       "</style>\n",
       "<table border=\"1\" class=\"dataframe\">\n",
       "  <thead>\n",
       "    <tr style=\"text-align: right;\">\n",
       "      <th></th>\n",
       "      <th>user_id</th>\n",
       "      <th>item_id</th>\n",
       "      <th>playtime_forever</th>\n",
       "      <th>tags&amp;genres</th>\n",
       "      <th>year</th>\n",
       "    </tr>\n",
       "  </thead>\n",
       "  <tbody>\n",
       "    <tr>\n",
       "      <th>0</th>\n",
       "      <td>76561197970982479</td>\n",
       "      <td>10</td>\n",
       "      <td>6</td>\n",
       "      <td>[Action, FPS, Multiplayer, Shooter, Classic, Team-Based, Competitive, First-Person, Tactical, 1990's, e-sports, PvP, Military, Strategy, Score Att...</td>\n",
       "      <td>2000</td>\n",
       "    </tr>\n",
       "    <tr>\n",
       "      <th>3</th>\n",
       "      <td>doctr</td>\n",
       "      <td>10</td>\n",
       "      <td>93</td>\n",
       "      <td>[Action, FPS, Multiplayer, Shooter, Classic, Team-Based, Competitive, First-Person, Tactical, 1990's, e-sports, PvP, Military, Strategy, Score Att...</td>\n",
       "      <td>2000</td>\n",
       "    </tr>\n",
       "    <tr>\n",
       "      <th>...</th>\n",
       "      <td>...</td>\n",
       "      <td>...</td>\n",
       "      <td>...</td>\n",
       "      <td>...</td>\n",
       "      <td>...</td>\n",
       "    </tr>\n",
       "    <tr>\n",
       "      <th>4294254</th>\n",
       "      <td>76561198107283457</td>\n",
       "      <td>354280</td>\n",
       "      <td>164</td>\n",
       "      <td>[Indie, Casual, Action, Simulation]</td>\n",
       "      <td>2016</td>\n",
       "    </tr>\n",
       "    <tr>\n",
       "      <th>4294256</th>\n",
       "      <td>danebuchanan</td>\n",
       "      <td>485270</td>\n",
       "      <td>7</td>\n",
       "      <td>[Casual, Simulation, Psychological Horror, Horror, VR]</td>\n",
       "      <td>2018</td>\n",
       "    </tr>\n",
       "  </tbody>\n",
       "</table>\n",
       "<p>2868034 rows × 5 columns</p>\n",
       "</div>"
      ],
      "text/plain": [
       "                   user_id  item_id  playtime_forever  \\\n",
       "0        76561197970982479       10                 6   \n",
       "3                    doctr       10                93   \n",
       "...                    ...      ...               ...   \n",
       "4294254  76561198107283457   354280               164   \n",
       "4294256       danebuchanan   485270                 7   \n",
       "\n",
       "                                                                                                                                                   tags&genres  \\\n",
       "0        [Action, FPS, Multiplayer, Shooter, Classic, Team-Based, Competitive, First-Person, Tactical, 1990's, e-sports, PvP, Military, Strategy, Score Att...   \n",
       "3        [Action, FPS, Multiplayer, Shooter, Classic, Team-Based, Competitive, First-Person, Tactical, 1990's, e-sports, PvP, Military, Strategy, Score Att...   \n",
       "...                                                                                                                                                        ...   \n",
       "4294254                                                                                                                    [Indie, Casual, Action, Simulation]   \n",
       "4294256                                                                                                 [Casual, Simulation, Psychological Horror, Horror, VR]   \n",
       "\n",
       "         year  \n",
       "0        2000  \n",
       "3        2000  \n",
       "...       ...  \n",
       "4294254  2016  \n",
       "4294256  2018  \n",
       "\n",
       "[2868034 rows x 5 columns]"
      ]
     },
     "execution_count": 27,
     "metadata": {},
     "output_type": "execute_result"
    }
   ],
   "source": [
    "data_steam_copy"
   ]
  },
  {
   "cell_type": "code",
   "execution_count": null,
   "metadata": {},
   "outputs": [],
   "source": [
    "data.to_parquet('../light_data/function2.parquet', engine=\"pyarrow\")"
   ]
  },
  {
   "cell_type": "code",
   "execution_count": 41,
   "metadata": {},
   "outputs": [],
   "source": [
    "genre_features.to_parquet('light_data/recommendfunc1.parquet', engine=\"pyarrow\")"
   ]
  },
  {
   "cell_type": "code",
   "execution_count": null,
   "metadata": {},
   "outputs": [],
   "source": [
    "# what follows is a suboptimezed procedure to fulfill the task given, as many problems occur during deploy on Render.com.\n",
    "# 1) The free account is limited to 512 Mb, so to upload complete df, compression in parquet is mandatory.\n",
    "# 2) This compression misses the chance to recognize lists in cell. On the contrary, just list-like strings are able to be retrieved once compressed.\n",
    "# 3) To read parquet and convert the string to proper lists, the task can be done but it lasts more than 2 minutes wich makes it non-viable\n",
    "# 4) Only two ways left: shorten the original df (do not like) or test string (better)\n",
    "\n",
    "# def UserForGenre( genero : str ): Debe devolver el usuario que acumula más horas jugadas para el género dado y\n",
    "# una lista de la acumulación de horas jugadas por año.\n",
    "\n",
    "# Ejemplo de retorno: {\"Usuario con más horas jugadas para Género X\" :\n",
    "# us213ndjss09sdf, \"Horas jugadas\":[{Año: 2013, Horas: 203}, {Año: 2012, Horas: 100}, {Año: 2011, Horas: 23}]}\n",
    " "
   ]
  },
  {
   "cell_type": "code",
   "execution_count": null,
   "metadata": {},
   "outputs": [
    {
     "data": {
      "text/html": [
       "<div>\n",
       "<style scoped>\n",
       "    .dataframe tbody tr th:only-of-type {\n",
       "        vertical-align: middle;\n",
       "    }\n",
       "\n",
       "    .dataframe tbody tr th {\n",
       "        vertical-align: top;\n",
       "    }\n",
       "\n",
       "    .dataframe thead th {\n",
       "        text-align: right;\n",
       "    }\n",
       "</style>\n",
       "<table border=\"1\" class=\"dataframe\">\n",
       "  <thead>\n",
       "    <tr style=\"text-align: right;\">\n",
       "      <th></th>\n",
       "      <th>user_id</th>\n",
       "      <th>item_id</th>\n",
       "      <th>playtime_forever</th>\n",
       "      <th>tags&amp;genres</th>\n",
       "      <th>year</th>\n",
       "    </tr>\n",
       "  </thead>\n",
       "  <tbody>\n",
       "    <tr>\n",
       "      <th>4199399</th>\n",
       "      <td>chidvd</td>\n",
       "      <td>36270</td>\n",
       "      <td>0</td>\n",
       "      <td>None</td>\n",
       "      <td>2009</td>\n",
       "    </tr>\n",
       "    <tr>\n",
       "      <th>4276812</th>\n",
       "      <td>horizon95</td>\n",
       "      <td>503110</td>\n",
       "      <td>0</td>\n",
       "      <td>None</td>\n",
       "      <td>2016</td>\n",
       "    </tr>\n",
       "    <tr>\n",
       "      <th>4276813</th>\n",
       "      <td>iMurder</td>\n",
       "      <td>503110</td>\n",
       "      <td>0</td>\n",
       "      <td>None</td>\n",
       "      <td>2016</td>\n",
       "    </tr>\n",
       "    <tr>\n",
       "      <th>4276814</th>\n",
       "      <td>phrostb</td>\n",
       "      <td>503110</td>\n",
       "      <td>0</td>\n",
       "      <td>None</td>\n",
       "      <td>2016</td>\n",
       "    </tr>\n",
       "    <tr>\n",
       "      <th>4276815</th>\n",
       "      <td>primalcrescent</td>\n",
       "      <td>503110</td>\n",
       "      <td>0</td>\n",
       "      <td>None</td>\n",
       "      <td>2016</td>\n",
       "    </tr>\n",
       "    <tr>\n",
       "      <th>...</th>\n",
       "      <td>...</td>\n",
       "      <td>...</td>\n",
       "      <td>...</td>\n",
       "      <td>...</td>\n",
       "      <td>...</td>\n",
       "    </tr>\n",
       "    <tr>\n",
       "      <th>4292473</th>\n",
       "      <td>kaede</td>\n",
       "      <td>11920</td>\n",
       "      <td>148</td>\n",
       "      <td>None</td>\n",
       "      <td>2008</td>\n",
       "    </tr>\n",
       "    <tr>\n",
       "      <th>4292474</th>\n",
       "      <td>KillSwitch_2000</td>\n",
       "      <td>11920</td>\n",
       "      <td>0</td>\n",
       "      <td>None</td>\n",
       "      <td>2008</td>\n",
       "    </tr>\n",
       "    <tr>\n",
       "      <th>4292475</th>\n",
       "      <td>Ellimist22</td>\n",
       "      <td>11920</td>\n",
       "      <td>0</td>\n",
       "      <td>None</td>\n",
       "      <td>2008</td>\n",
       "    </tr>\n",
       "    <tr>\n",
       "      <th>4292476</th>\n",
       "      <td>likeapotato</td>\n",
       "      <td>11920</td>\n",
       "      <td>69</td>\n",
       "      <td>None</td>\n",
       "      <td>2008</td>\n",
       "    </tr>\n",
       "    <tr>\n",
       "      <th>4292477</th>\n",
       "      <td>T-Dub-1991</td>\n",
       "      <td>11920</td>\n",
       "      <td>1</td>\n",
       "      <td>None</td>\n",
       "      <td>2008</td>\n",
       "    </tr>\n",
       "  </tbody>\n",
       "</table>\n",
       "<p>117 rows × 5 columns</p>\n",
       "</div>"
      ],
      "text/plain": [
       "                 user_id  item_id  playtime_forever tags&genres  year\n",
       "4199399           chidvd    36270                 0        None  2009\n",
       "4276812        horizon95   503110                 0        None  2016\n",
       "4276813          iMurder   503110                 0        None  2016\n",
       "4276814          phrostb   503110                 0        None  2016\n",
       "4276815   primalcrescent   503110                 0        None  2016\n",
       "...                  ...      ...               ...         ...   ...\n",
       "4292473            kaede    11920               148        None  2008\n",
       "4292474  KillSwitch_2000    11920                 0        None  2008\n",
       "4292475       Ellimist22    11920                 0        None  2008\n",
       "4292476      likeapotato    11920                69        None  2008\n",
       "4292477       T-Dub-1991    11920                 1        None  2008\n",
       "\n",
       "[117 rows x 5 columns]"
      ]
     },
     "execution_count": 15,
     "metadata": {},
     "output_type": "execute_result"
    }
   ],
   "source": [
    "data[data['tags&genres'].isna()]"
   ]
  },
  {
   "cell_type": "code",
   "execution_count": null,
   "metadata": {},
   "outputs": [],
   "source": [
    "filtered_df_by_genre = data[(~pd.isna(data['tags&genres'])) & (data['tags&genres'].str.contains(genre))]"
   ]
  },
  {
   "cell_type": "code",
   "execution_count": null,
   "metadata": {},
   "outputs": [],
   "source": [
    "user_most_played = filtered_df_by_genre.groupby('user_id')['playtime_forever'].sum().reset_index().sort_values(by='playtime_forever', ascending=False).iloc[0]"
   ]
  },
  {
   "cell_type": "code",
   "execution_count": null,
   "metadata": {},
   "outputs": [
    {
     "data": {
      "text/plain": [
       "user_id             Sp3ctre\n",
       "playtime_forever    1978769\n",
       "Name: 50569, dtype: object"
      ]
     },
     "execution_count": 9,
     "metadata": {},
     "output_type": "execute_result"
    }
   ],
   "source": [
    "user_most_played"
   ]
  },
  {
   "cell_type": "code",
   "execution_count": null,
   "metadata": {},
   "outputs": [],
   "source": [
    "playtime_history_for_user_most_played = user_most_played['user_id']"
   ]
  },
  {
   "cell_type": "code",
   "execution_count": null,
   "metadata": {},
   "outputs": [
    {
     "data": {
      "text/plain": [
       "'Sp3ctre'"
      ]
     },
     "execution_count": 11,
     "metadata": {},
     "output_type": "execute_result"
    }
   ],
   "source": [
    "playtime_history_for_user_most_played"
   ]
  },
  {
   "cell_type": "code",
   "execution_count": null,
   "metadata": {},
   "outputs": [
    {
     "name": "stdout",
     "output_type": "stream",
     "text": [
      "{\"anio\":1995,\"horas\":4.0}\n",
      "{\"anio\":1997,\"horas\":5.0}\n",
      "{\"anio\":1999,\"horas\":10.0}\n",
      "{\"anio\":2000,\"horas\":1177.0}\n",
      "{\"anio\":2001,\"horas\":4.0}\n",
      "{\"anio\":2002,\"horas\":6.0}\n",
      "{\"anio\":2003,\"horas\":129.0}\n",
      "{\"anio\":2004,\"horas\":2134.0}\n",
      "{\"anio\":2005,\"horas\":356.0}\n",
      "{\"anio\":2006,\"horas\":1536.0}\n",
      "{\"anio\":2007,\"horas\":1880.0}\n",
      "{\"anio\":2008,\"horas\":143.0}\n",
      "{\"anio\":2009,\"horas\":1818.0}\n",
      "{\"anio\":2010,\"horas\":1386.0}\n",
      "{\"anio\":2011,\"horas\":2591.0}\n",
      "{\"anio\":2012,\"horas\":6432.0}\n",
      "{\"anio\":2013,\"horas\":3455.0}\n",
      "{\"anio\":2014,\"horas\":2320.0}\n",
      "{\"anio\":2015,\"horas\":8543.0}\n",
      "{\"anio\":2016,\"horas\":779.0}\n",
      "{\"anio\":2017,\"horas\":729.0}\n",
      "\n"
     ]
    }
   ],
   "source": [
    "response = data[data['user_id']==playtime_history_for_user_most_played].groupby('year')['playtime_forever'].sum().reset_index()\n",
    "response['playtime_forever'] = round(response['playtime_forever']/60,0)\n",
    "change_column_names_to_spanish = {'year': 'anio', 'playtime_forever': 'horas'}\n",
    "response.rename(columns=change_column_names_to_spanish, inplace=True)\n",
    "print(response.to_json(orient='records', lines=True))"
   ]
  },
  {
   "cell_type": "code",
   "execution_count": null,
   "metadata": {},
   "outputs": [
    {
     "name": "stdout",
     "output_type": "stream",
     "text": [
      "{'The user wich most played Action genre is Sp3ctre {\"anio\":1995,\"horas\":4.0}\\n{\"anio\":1997,\"horas\":5.0}\\n{\"anio\":1999,\"horas\":10.0}\\n{\"anio\":2000,\"horas\":1177.0}\\n{\"anio\":2001,\"horas\":4.0}\\n{\"anio\":2002,\"horas\":6.0}\\n{\"anio\":2003,\"horas\":129.0}\\n{\"anio\":2004,\"horas\":2134.0}\\n{\"anio\":2005,\"horas\":356.0}\\n{\"anio\":2006,\"horas\":1536.0}\\n{\"anio\":2007,\"horas\":1880.0}\\n{\"anio\":2008,\"horas\":143.0}\\n{\"anio\":2009,\"horas\":1818.0}\\n{\"anio\":2010,\"horas\":1386.0}\\n{\"anio\":2011,\"horas\":2591.0}\\n{\"anio\":2012,\"horas\":6432.0}\\n{\"anio\":2013,\"horas\":3455.0}\\n{\"anio\":2014,\"horas\":2320.0}\\n{\"anio\":2015,\"horas\":8543.0}\\n{\"anio\":2016,\"horas\":779.0}\\n{\"anio\":2017,\"horas\":729.0}\\n'}\n"
     ]
    }
   ],
   "source": [
    "import pandas as pd\n",
    "\n",
    "def UserForGenre(genre:str):\n",
    "\n",
    "        data = pd.read_parquet(\"function2.parquet\", engine=\"fastparquet\")\n",
    "        filtered_df_by_genre = data[(~pd.isna(data['tags&genres'])) & (data['tags&genres'].str.contains(genre))] # serch for genre and no NaN   \n",
    "        user_most_played = filtered_df_by_genre.groupby('user_id')['playtime_forever'].sum().reset_index().sort_values(by='playtime_forever', ascending=False).iloc[0]\n",
    "        playtime_history_for_user_most_played = user_most_played['user_id']\n",
    "        response = data[data['user_id']==playtime_history_for_user_most_played].groupby('year')['playtime_forever'].sum().reset_index()\n",
    "        response['playtime_forever'] = round(response['playtime_forever']/60,0)\n",
    "        change_column_names_to_spanish = {'year': 'anio', 'playtime_forever': 'horas'}\n",
    "        response.rename(columns=change_column_names_to_spanish, inplace=True)\n",
    "        final_response = response.to_to_dict(orient='records')\n",
    "        del data\n",
    "        return {f\"The user wich most played {genre} genre is {playtime_history_for_user_most_played} {final_response}\"}\n",
    "\n",
    "\n",
    "print(UserForGenre('Action'))"
   ]
  },
  {
   "cell_type": "code",
   "execution_count": null,
   "metadata": {},
   "outputs": [
    {
     "data": {
      "text/plain": [
       "{'negative': 1229, 'neutral': 14360, 'positive': 2881}"
      ]
     },
     "execution_count": 5,
     "metadata": {},
     "output_type": "execute_result"
    }
   ],
   "source": [
    "# Function 5 test\n",
    "import pandas as pd\n",
    "def sentiment_analysis(year:int):\n",
    "\n",
    "# Example for web testing: https://test-deploy-kvdi.onrender.com/sentiment_analysis/2015\n",
    "\n",
    "# It returns a list with total user reviews categorized by sentiment analisys (Negative, Neutral and Positive) for a given year\n",
    "\n",
    "# Parameters:\n",
    "# - year(int): The year for which recommendations were issued\n",
    "# Return:\n",
    "# - dict: A dictionary with the 3 categories for that year\n",
    "\n",
    "\n",
    "    data = pd.read_csv('function345.csv')    \n",
    "    data['modified_date'] = pd.to_datetime(data['modified_date'])\n",
    "    year_condition = data[data['modified_date'].dt.year==year]\n",
    "\n",
    "    reviews = year_condition.groupby('sentiment_analisys')['user_id'].count().reset_index()\n",
    "    return {\n",
    "            \"negative\"  : reviews['user_id'].iloc[0],\n",
    "            \"neutral\"   : reviews['user_id'].iloc[1],\n",
    "            \"positive\"  : reviews['user_id'].iloc[2]\n",
    "            }\n",
    "sentiment_analysis(2015)"
   ]
  }
 ],
 "metadata": {
  "kernelspec": {
   "display_name": "Python 3",
   "language": "python",
   "name": "python3"
  },
  "language_info": {
   "codemirror_mode": {
    "name": "ipython",
    "version": 3
   },
   "file_extension": ".py",
   "mimetype": "text/x-python",
   "name": "python",
   "nbconvert_exporter": "python",
   "pygments_lexer": "ipython3",
   "version": "3.11.3"
  }
 },
 "nbformat": 4,
 "nbformat_minor": 2
}
