{
 "cells": [
  {
   "cell_type": "code",
   "execution_count": 3,
   "metadata": {},
   "outputs": [],
   "source": [
    "# What follows is a step-by-step to get the reult:\n",
    "\n",
    "# A recommendation system to get top 5 similar games for a given one.\n",
    "# Intermediate results are presented to see transformations taking place.\n",
    "# At te end, the final response is shown.\n",
    "# Whith all this working, we copy relevant results to the main.py file, so they can be consumend through the API."
   ]
  },
  {
   "cell_type": "code",
   "execution_count": 2,
   "metadata": {},
   "outputs": [],
   "source": [
    "import pandas as pd\n",
    "\n",
    "pd.set_option('display.max_colwidth', 100)\n",
    "pd.set_option('display.max_rows',7)"
   ]
  },
  {
   "cell_type": "code",
   "execution_count": 6,
   "metadata": {},
   "outputs": [],
   "source": [
    "genre_df = pd.read_csv('../light_data/playtimegenre.csv')\n",
    "games_names_df = pd.read_csv('../light_data/item_id&name.csv')"
   ]
  },
  {
   "cell_type": "code",
   "execution_count": 7,
   "metadata": {},
   "outputs": [
    {
     "data": {
      "text/html": [
       "<div>\n",
       "<style scoped>\n",
       "    .dataframe tbody tr th:only-of-type {\n",
       "        vertical-align: middle;\n",
       "    }\n",
       "\n",
       "    .dataframe tbody tr th {\n",
       "        vertical-align: top;\n",
       "    }\n",
       "\n",
       "    .dataframe thead th {\n",
       "        text-align: right;\n",
       "    }\n",
       "</style>\n",
       "<table border=\"1\" class=\"dataframe\">\n",
       "  <thead>\n",
       "    <tr style=\"text-align: right;\">\n",
       "      <th></th>\n",
       "      <th>item_id</th>\n",
       "      <th>app_name&amp;title</th>\n",
       "    </tr>\n",
       "  </thead>\n",
       "  <tbody>\n",
       "    <tr>\n",
       "      <th>31095</th>\n",
       "      <td>49476</td>\n",
       "      <td>Magic 2012 Deck Pack 3</td>\n",
       "    </tr>\n",
       "  </tbody>\n",
       "</table>\n",
       "</div>"
      ],
      "text/plain": [
       "       item_id          app_name&title\n",
       "31095    49476  Magic 2012 Deck Pack 3"
      ]
     },
     "execution_count": 7,
     "metadata": {},
     "output_type": "execute_result"
    }
   ],
   "source": [
    "games_names_df.sample(1)"
   ]
  },
  {
   "cell_type": "code",
   "execution_count": 8,
   "metadata": {},
   "outputs": [
    {
     "data": {
      "text/html": [
       "<div>\n",
       "<style scoped>\n",
       "    .dataframe tbody tr th:only-of-type {\n",
       "        vertical-align: middle;\n",
       "    }\n",
       "\n",
       "    .dataframe tbody tr th {\n",
       "        vertical-align: top;\n",
       "    }\n",
       "\n",
       "    .dataframe thead th {\n",
       "        text-align: right;\n",
       "    }\n",
       "</style>\n",
       "<table border=\"1\" class=\"dataframe\">\n",
       "  <thead>\n",
       "    <tr style=\"text-align: right;\">\n",
       "      <th></th>\n",
       "      <th>item_id</th>\n",
       "      <th>release_date_imputed</th>\n",
       "      <th>tags&amp;genres</th>\n",
       "    </tr>\n",
       "  </thead>\n",
       "  <tbody>\n",
       "    <tr>\n",
       "      <th>2111</th>\n",
       "      <td>296210</td>\n",
       "      <td>2006-10-17</td>\n",
       "      <td>['Strategy', 'Simulation', 'Tactical']</td>\n",
       "    </tr>\n",
       "  </tbody>\n",
       "</table>\n",
       "</div>"
      ],
      "text/plain": [
       "      item_id release_date_imputed                             tags&genres\n",
       "2111   296210           2006-10-17  ['Strategy', 'Simulation', 'Tactical']"
      ]
     },
     "execution_count": 8,
     "metadata": {},
     "output_type": "execute_result"
    }
   ],
   "source": [
    "genre_df.sample(1)"
   ]
  },
  {
   "cell_type": "code",
   "execution_count": 9,
   "metadata": {},
   "outputs": [
    {
     "data": {
      "text/html": [
       "<div>\n",
       "<style scoped>\n",
       "    .dataframe tbody tr th:only-of-type {\n",
       "        vertical-align: middle;\n",
       "    }\n",
       "\n",
       "    .dataframe tbody tr th {\n",
       "        vertical-align: top;\n",
       "    }\n",
       "\n",
       "    .dataframe thead th {\n",
       "        text-align: right;\n",
       "    }\n",
       "</style>\n",
       "<table border=\"1\" class=\"dataframe\">\n",
       "  <thead>\n",
       "    <tr style=\"text-align: right;\">\n",
       "      <th></th>\n",
       "      <th>item_id</th>\n",
       "      <th>release_date_imputed</th>\n",
       "      <th>tags&amp;genres</th>\n",
       "    </tr>\n",
       "  </thead>\n",
       "  <tbody>\n",
       "    <tr>\n",
       "      <th>278</th>\n",
       "      <td>31990</td>\n",
       "      <td>2009-07-21</td>\n",
       "      <td>NaN</td>\n",
       "    </tr>\n",
       "    <tr>\n",
       "      <th>297</th>\n",
       "      <td>35050</td>\n",
       "      <td>2009-08-19</td>\n",
       "      <td>NaN</td>\n",
       "    </tr>\n",
       "    <tr>\n",
       "      <th>308</th>\n",
       "      <td>39392</td>\n",
       "      <td>2009-09-23</td>\n",
       "      <td>NaN</td>\n",
       "    </tr>\n",
       "    <tr>\n",
       "      <th>...</th>\n",
       "      <td>...</td>\n",
       "      <td>...</td>\n",
       "      <td>...</td>\n",
       "    </tr>\n",
       "    <tr>\n",
       "      <th>31635</th>\n",
       "      <td>36270</td>\n",
       "      <td>2009-07-17</td>\n",
       "      <td>NaN</td>\n",
       "    </tr>\n",
       "    <tr>\n",
       "      <th>31648</th>\n",
       "      <td>34910</td>\n",
       "      <td>2009-07-20</td>\n",
       "      <td>NaN</td>\n",
       "    </tr>\n",
       "    <tr>\n",
       "      <th>31804</th>\n",
       "      <td>11920</td>\n",
       "      <td>2008-04-18</td>\n",
       "      <td>NaN</td>\n",
       "    </tr>\n",
       "  </tbody>\n",
       "</table>\n",
       "<p>162 rows × 3 columns</p>\n",
       "</div>"
      ],
      "text/plain": [
       "       item_id release_date_imputed tags&genres\n",
       "278      31990           2009-07-21         NaN\n",
       "297      35050           2009-08-19         NaN\n",
       "308      39392           2009-09-23         NaN\n",
       "...        ...                  ...         ...\n",
       "31635    36270           2009-07-17         NaN\n",
       "31648    34910           2009-07-20         NaN\n",
       "31804    11920           2008-04-18         NaN\n",
       "\n",
       "[162 rows x 3 columns]"
      ]
     },
     "execution_count": 9,
     "metadata": {},
     "output_type": "execute_result"
    }
   ],
   "source": [
    "genre_df[genre_df['tags&genres'].isna()]"
   ]
  },
  {
   "cell_type": "code",
   "execution_count": 10,
   "metadata": {},
   "outputs": [],
   "source": [
    "genre_df.dropna(subset=['tags&genres'], inplace=True)\n"
   ]
  },
  {
   "cell_type": "code",
   "execution_count": 11,
   "metadata": {},
   "outputs": [
    {
     "data": {
      "text/html": [
       "<div>\n",
       "<style scoped>\n",
       "    .dataframe tbody tr th:only-of-type {\n",
       "        vertical-align: middle;\n",
       "    }\n",
       "\n",
       "    .dataframe tbody tr th {\n",
       "        vertical-align: top;\n",
       "    }\n",
       "\n",
       "    .dataframe thead th {\n",
       "        text-align: right;\n",
       "    }\n",
       "</style>\n",
       "<table border=\"1\" class=\"dataframe\">\n",
       "  <thead>\n",
       "    <tr style=\"text-align: right;\">\n",
       "      <th></th>\n",
       "      <th>item_id</th>\n",
       "      <th>release_date_imputed</th>\n",
       "      <th>tags&amp;genres</th>\n",
       "    </tr>\n",
       "  </thead>\n",
       "  <tbody>\n",
       "  </tbody>\n",
       "</table>\n",
       "</div>"
      ],
      "text/plain": [
       "Empty DataFrame\n",
       "Columns: [item_id, release_date_imputed, tags&genres]\n",
       "Index: []"
      ]
     },
     "execution_count": 11,
     "metadata": {},
     "output_type": "execute_result"
    }
   ],
   "source": [
    "genre_df[genre_df['tags&genres'].isna()]"
   ]
  },
  {
   "cell_type": "code",
   "execution_count": 12,
   "metadata": {},
   "outputs": [],
   "source": [
    "# eval is a built-in that evaluates a string as a Python expression.\n",
    "# Used to convert strings that represent Python objects of lists into the actual Python objects.\n",
    "\n",
    "genre_df['tags&genres'] = genre_df['tags&genres'].astype(str).apply(eval)"
   ]
  },
  {
   "cell_type": "code",
   "execution_count": 13,
   "metadata": {},
   "outputs": [
    {
     "data": {
      "text/html": [
       "<div>\n",
       "<style scoped>\n",
       "    .dataframe tbody tr th:only-of-type {\n",
       "        vertical-align: middle;\n",
       "    }\n",
       "\n",
       "    .dataframe tbody tr th {\n",
       "        vertical-align: top;\n",
       "    }\n",
       "\n",
       "    .dataframe thead th {\n",
       "        text-align: right;\n",
       "    }\n",
       "</style>\n",
       "<table border=\"1\" class=\"dataframe\">\n",
       "  <thead>\n",
       "    <tr style=\"text-align: right;\">\n",
       "      <th></th>\n",
       "      <th>item_id</th>\n",
       "      <th>release_date_imputed</th>\n",
       "      <th>tags&amp;genres</th>\n",
       "    </tr>\n",
       "  </thead>\n",
       "  <tbody>\n",
       "    <tr>\n",
       "      <th>10144</th>\n",
       "      <td>592812</td>\n",
       "      <td>2017-06-19</td>\n",
       "      <td>[Adventure, RPG, Indie]</td>\n",
       "    </tr>\n",
       "  </tbody>\n",
       "</table>\n",
       "</div>"
      ],
      "text/plain": [
       "       item_id release_date_imputed              tags&genres\n",
       "10144   592812           2017-06-19  [Adventure, RPG, Indie]"
      ]
     },
     "execution_count": 13,
     "metadata": {},
     "output_type": "execute_result"
    }
   ],
   "source": [
    "genre_df.sample(1)"
   ]
  },
  {
   "cell_type": "code",
   "execution_count": 14,
   "metadata": {},
   "outputs": [],
   "source": [
    "recommendation_df = genre_df[['item_id', 'tags&genres']]"
   ]
  },
  {
   "cell_type": "code",
   "execution_count": 15,
   "metadata": {},
   "outputs": [
    {
     "data": {
      "text/html": [
       "<div>\n",
       "<style scoped>\n",
       "    .dataframe tbody tr th:only-of-type {\n",
       "        vertical-align: middle;\n",
       "    }\n",
       "\n",
       "    .dataframe tbody tr th {\n",
       "        vertical-align: top;\n",
       "    }\n",
       "\n",
       "    .dataframe thead th {\n",
       "        text-align: right;\n",
       "    }\n",
       "</style>\n",
       "<table border=\"1\" class=\"dataframe\">\n",
       "  <thead>\n",
       "    <tr style=\"text-align: right;\">\n",
       "      <th></th>\n",
       "      <th>item_id</th>\n",
       "      <th>tags&amp;genres</th>\n",
       "    </tr>\n",
       "  </thead>\n",
       "  <tbody>\n",
       "    <tr>\n",
       "      <th>24302</th>\n",
       "      <td>424280</td>\n",
       "      <td>[Free to Play, Action, Fighting, Indie, Funny, Gore, 2D, 2D Fighter, Survival, Cartoon, Fast-Pac...</td>\n",
       "    </tr>\n",
       "  </tbody>\n",
       "</table>\n",
       "</div>"
      ],
      "text/plain": [
       "       item_id  \\\n",
       "24302   424280   \n",
       "\n",
       "                                                                                               tags&genres  \n",
       "24302  [Free to Play, Action, Fighting, Indie, Funny, Gore, 2D, 2D Fighter, Survival, Cartoon, Fast-Pac...  "
      ]
     },
     "execution_count": 15,
     "metadata": {},
     "output_type": "execute_result"
    }
   ],
   "source": [
    "recommendation_df.sample(1)"
   ]
  },
  {
   "cell_type": "code",
   "execution_count": 16,
   "metadata": {},
   "outputs": [],
   "source": [
    "# Flatten the lists in the 'tags&genres' column\n",
    "\n",
    "df_expanded = recommendation_df['tags&genres'].explode().reset_index(drop=True)\n",
    "\n",
    "# Create dummy variables for the 'tags&genres' column\n",
    "\n",
    "dummies = pd.get_dummies(df_expanded)\n",
    "\n",
    "# Merge the dummy variables with the original\n",
    "\n",
    "recommendation_df_large = pd.merge(recommendation_df, dummies, left_index=True, right_index=True)\n"
   ]
  },
  {
   "cell_type": "code",
   "execution_count": 19,
   "metadata": {},
   "outputs": [
    {
     "data": {
      "text/html": [
       "<div>\n",
       "<style scoped>\n",
       "    .dataframe tbody tr th:only-of-type {\n",
       "        vertical-align: middle;\n",
       "    }\n",
       "\n",
       "    .dataframe tbody tr th {\n",
       "        vertical-align: top;\n",
       "    }\n",
       "\n",
       "    .dataframe thead th {\n",
       "        text-align: right;\n",
       "    }\n",
       "</style>\n",
       "<table border=\"1\" class=\"dataframe\">\n",
       "  <thead>\n",
       "    <tr style=\"text-align: right;\">\n",
       "      <th></th>\n",
       "      <th>item_id</th>\n",
       "      <th>tags&amp;genres</th>\n",
       "      <th>1980s</th>\n",
       "      <th>1990's</th>\n",
       "      <th>2.5D</th>\n",
       "      <th>2D</th>\n",
       "      <th>2D Fighter</th>\n",
       "      <th>360 Video</th>\n",
       "      <th>3D Platformer</th>\n",
       "      <th>3D Vision</th>\n",
       "      <th>...</th>\n",
       "      <th>Warhammer 40K</th>\n",
       "      <th>Web Publishing</th>\n",
       "      <th>Werewolves</th>\n",
       "      <th>Western</th>\n",
       "      <th>Word Game</th>\n",
       "      <th>World War I</th>\n",
       "      <th>World War II</th>\n",
       "      <th>Wrestling</th>\n",
       "      <th>Zombies</th>\n",
       "      <th>e-sports</th>\n",
       "    </tr>\n",
       "  </thead>\n",
       "  <tbody>\n",
       "    <tr>\n",
       "      <th>3844</th>\n",
       "      <td>336900</td>\n",
       "      <td>[Action, Adventure, Indie]</td>\n",
       "      <td>False</td>\n",
       "      <td>False</td>\n",
       "      <td>False</td>\n",
       "      <td>False</td>\n",
       "      <td>False</td>\n",
       "      <td>False</td>\n",
       "      <td>False</td>\n",
       "      <td>False</td>\n",
       "      <td>...</td>\n",
       "      <td>False</td>\n",
       "      <td>False</td>\n",
       "      <td>False</td>\n",
       "      <td>False</td>\n",
       "      <td>False</td>\n",
       "      <td>False</td>\n",
       "      <td>False</td>\n",
       "      <td>False</td>\n",
       "      <td>False</td>\n",
       "      <td>False</td>\n",
       "    </tr>\n",
       "  </tbody>\n",
       "</table>\n",
       "<p>1 rows × 341 columns</p>\n",
       "</div>"
      ],
      "text/plain": [
       "      item_id                 tags&genres  1980s  1990's   2.5D     2D  \\\n",
       "3844   336900  [Action, Adventure, Indie]  False   False  False  False   \n",
       "\n",
       "      2D Fighter  360 Video  3D Platformer  3D Vision  ...  Warhammer 40K  \\\n",
       "3844       False      False          False      False  ...          False   \n",
       "\n",
       "      Web Publishing  Werewolves  Western  Word Game  World War I  \\\n",
       "3844           False       False    False      False        False   \n",
       "\n",
       "      World War II  Wrestling  Zombies  e-sports  \n",
       "3844         False      False    False     False  \n",
       "\n",
       "[1 rows x 341 columns]"
      ]
     },
     "execution_count": 19,
     "metadata": {},
     "output_type": "execute_result"
    }
   ],
   "source": [
    "recommendation_df_large.sample(1)"
   ]
  },
  {
   "cell_type": "code",
   "execution_count": 18,
   "metadata": {},
   "outputs": [
    {
     "data": {
      "text/plain": [
       "Index(['1980s', '1990's', '2.5D', '2D', '2D Fighter', '360 Video',\n",
       "       '3D Platformer', '3D Vision', '4 Player Local', '4X',\n",
       "       ...\n",
       "       'Warhammer 40K', 'Web Publishing', 'Werewolves', 'Western', 'Word Game',\n",
       "       'World War I', 'World War II', 'Wrestling', 'Zombies', 'e-sports'],\n",
       "      dtype='object', length=339)"
      ]
     },
     "execution_count": 18,
     "metadata": {},
     "output_type": "execute_result"
    }
   ],
   "source": [
    "dummies.columns"
   ]
  },
  {
   "cell_type": "code",
   "execution_count": 23,
   "metadata": {},
   "outputs": [],
   "source": [
    "recommendation_df_large.to_parquet('../light_data/recommendfunc1.parquet', engine='fastparquet')"
   ]
  },
  {
   "cell_type": "code",
   "execution_count": 16,
   "metadata": {},
   "outputs": [
    {
     "data": {
      "text/html": [
       "<div>\n",
       "<style scoped>\n",
       "    .dataframe tbody tr th:only-of-type {\n",
       "        vertical-align: middle;\n",
       "    }\n",
       "\n",
       "    .dataframe tbody tr th {\n",
       "        vertical-align: top;\n",
       "    }\n",
       "\n",
       "    .dataframe thead th {\n",
       "        text-align: right;\n",
       "    }\n",
       "</style>\n",
       "<table border=\"1\" class=\"dataframe\">\n",
       "  <thead>\n",
       "    <tr style=\"text-align: right;\">\n",
       "      <th></th>\n",
       "      <th>item_id</th>\n",
       "      <th>tags&amp;genres</th>\n",
       "      <th>1980s</th>\n",
       "      <th>1990's</th>\n",
       "      <th>2.5D</th>\n",
       "      <th>2D</th>\n",
       "      <th>2D Fighter</th>\n",
       "      <th>360 Video</th>\n",
       "      <th>3D Platformer</th>\n",
       "      <th>3D Vision</th>\n",
       "      <th>...</th>\n",
       "      <th>Warhammer 40K</th>\n",
       "      <th>Web Publishing</th>\n",
       "      <th>Werewolves</th>\n",
       "      <th>Western</th>\n",
       "      <th>Word Game</th>\n",
       "      <th>World War I</th>\n",
       "      <th>World War II</th>\n",
       "      <th>Wrestling</th>\n",
       "      <th>Zombies</th>\n",
       "      <th>e-sports</th>\n",
       "    </tr>\n",
       "  </thead>\n",
       "  <tbody>\n",
       "    <tr>\n",
       "      <th>19900</th>\n",
       "      <td>555250</td>\n",
       "      <td>[Casual]</td>\n",
       "      <td>False</td>\n",
       "      <td>False</td>\n",
       "      <td>False</td>\n",
       "      <td>False</td>\n",
       "      <td>False</td>\n",
       "      <td>False</td>\n",
       "      <td>False</td>\n",
       "      <td>False</td>\n",
       "      <td>...</td>\n",
       "      <td>False</td>\n",
       "      <td>False</td>\n",
       "      <td>False</td>\n",
       "      <td>False</td>\n",
       "      <td>False</td>\n",
       "      <td>False</td>\n",
       "      <td>False</td>\n",
       "      <td>False</td>\n",
       "      <td>False</td>\n",
       "      <td>False</td>\n",
       "    </tr>\n",
       "  </tbody>\n",
       "</table>\n",
       "<p>1 rows × 341 columns</p>\n",
       "</div>"
      ],
      "text/plain": [
       "       item_id tags&genres  1980s  1990's   2.5D     2D  2D Fighter  \\\n",
       "19900   555250    [Casual]  False   False  False  False       False   \n",
       "\n",
       "       360 Video  3D Platformer  3D Vision  ...  Warhammer 40K  \\\n",
       "19900      False          False      False  ...          False   \n",
       "\n",
       "       Web Publishing  Werewolves  Western  Word Game  World War I  \\\n",
       "19900           False       False    False      False        False   \n",
       "\n",
       "       World War II  Wrestling  Zombies  e-sports  \n",
       "19900         False      False    False     False  \n",
       "\n",
       "[1 rows x 341 columns]"
      ]
     },
     "execution_count": 16,
     "metadata": {},
     "output_type": "execute_result"
    }
   ],
   "source": [
    "recommendation_df_large.sample(1)"
   ]
  },
  {
   "cell_type": "code",
   "execution_count": 29,
   "metadata": {},
   "outputs": [
    {
     "name": "stdout",
     "output_type": "stream",
     "text": [
      "[333390, 505040, 224763, 590185, 234160, 501440]\n"
     ]
    }
   ],
   "source": [
    "from sklearn.metrics.pairwise import cosine_similarity\n",
    "import numpy as np\n",
    "import pandas as pd\n",
    "\n",
    "def game_recommendation(item_id):\n",
    "\n",
    "    data = pd.read_parquet(\"../light_data/recommendfunc1.parquet\", engine=\"fastparquet\")\n",
    "\n",
    "    data['item_id'] = data['item_id'].astype(int)\n",
    "\n",
    "    if recommendation_df_large['item_id'].isin([item_id]).any():\n",
    "        # Calculates the cosine similarity between the selected game (item_id) and\n",
    "        # all other games in the genre_features DataFrame. The result is stored in the 'similarity' variable.\n",
    "        selected_item = recommendation_df_large[recommendation_df_large['item_id'] == item_id][recommendation_df_large.columns[2:]]\n",
    "        features_columns = recommendation_df_large[recommendation_df_large.columns[2:]]\n",
    "        similarity = cosine_similarity(selected_item[recommendation_df_large.columns[2:]], features_columns)\n",
    "\n",
    "        # Get the indices of the top 6 similar items (we include the first one as well)\n",
    "        similar_items_indices = np.argsort(similarity[0])[::-1][0:6]\n",
    "        \n",
    "        # Extract item_ids of the top 6 similar items\n",
    "        top_n_similar_items = recommendation_df_large.loc[similar_items_indices, 'item_id'].tolist()\n",
    "\n",
    "        games_similar = response.iloc[0]\n",
    "\n",
    "        \n",
    "        return top_n_similar_items\n",
    "    \n",
    "    return {f'No item_id like {item_id}'}\n",
    "\n",
    "# Example usage to get the top 6 similar items for item_id 208800\n",
    "top_6_similar_items = game_recommendation(754120)\n",
    "print(top_6_similar_items)"
   ]
  },
  {
   "cell_type": "code",
   "execution_count": 38,
   "metadata": {},
   "outputs": [
    {
     "data": {
      "text/plain": [
       "0                             Tales of Aravorn: Seasons Of The Wolf\n",
       "1                                                           FORTIFY\n",
       "2                                           FEZ Original Soundtrack\n",
       "3    Rocksmith® 2014 Edition – Remastered – Pearl Jam - “Even Flow”\n",
       "4                                              Strike Suit Infinity\n",
       "5                                                             Stars\n",
       "Name: app_name&title, dtype: object"
      ]
     },
     "execution_count": 38,
     "metadata": {},
     "output_type": "execute_result"
    }
   ],
   "source": [
    "# Create a Categorical data type with the desired order. This data type is used to represent categorical data with a specified order.\n",
    "\n",
    "order = pd.CategoricalDtype(top_6_similar_items, ordered=True)\n",
    "\n",
    "# converting the 'item_id' column in the DataFrame (games_names_df) to the Categorical data type created.\n",
    "# This step is crucial for ensuring that subsequent operations take into account the desired order of the categories.\n",
    "\n",
    "games_names_df['item_id'] = games_names_df['item_id'].astype(order)\n",
    "\n",
    "# Filter the DataFrame based on the 'item_id' values in top_6_similar_items\n",
    "\n",
    "response = games_names_df[games_names_df['item_id'].isin(top_6_similar_items)]\n",
    "\n",
    "# Sort sub_df based on the order of 'item_id'\n",
    "\n",
    "response = response.sort_values(by='item_id')\n",
    "\n",
    "# Reset the index if needed\n",
    "\n",
    "response = response.reset_index(drop=True)\n",
    "response['app_name&title']"
   ]
  },
  {
   "cell_type": "code",
   "execution_count": 39,
   "metadata": {},
   "outputs": [
    {
     "data": {
      "text/plain": [
       "'Tales of Aravorn: Seasons Of The Wolf'"
      ]
     },
     "execution_count": 39,
     "metadata": {},
     "output_type": "execute_result"
    }
   ],
   "source": [
    "\n",
    "response.iloc[0]['app_name&title']"
   ]
  },
  {
   "cell_type": "code",
   "execution_count": 40,
   "metadata": {},
   "outputs": [
    {
     "data": {
      "text/plain": [
       "1                                                           FORTIFY\n",
       "2                                           FEZ Original Soundtrack\n",
       "3    Rocksmith® 2014 Edition – Remastered – Pearl Jam - “Even Flow”\n",
       "4                                              Strike Suit Infinity\n",
       "5                                                             Stars\n",
       "Name: app_name&title, dtype: object"
      ]
     },
     "execution_count": 40,
     "metadata": {},
     "output_type": "execute_result"
    }
   ],
   "source": [
    "response.iloc[1:]['app_name&title']"
   ]
  }
 ],
 "metadata": {
  "kernelspec": {
   "display_name": "Python 3",
   "language": "python",
   "name": "python3"
  },
  "language_info": {
   "codemirror_mode": {
    "name": "ipython",
    "version": 3
   },
   "file_extension": ".py",
   "mimetype": "text/x-python",
   "name": "python",
   "nbconvert_exporter": "python",
   "pygments_lexer": "ipython3",
   "version": "3.11.3"
  }
 },
 "nbformat": 4,
 "nbformat_minor": 2
}
